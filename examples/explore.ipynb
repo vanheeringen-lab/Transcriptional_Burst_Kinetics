{
 "cells": [
  {
   "cell_type": "code",
   "execution_count": 4,
   "metadata": {},
   "outputs": [
    {
     "name": "stdout",
     "output_type": "stream",
     "text": [
      "The parameters are: lambda 1.4, mu 4.74, nu 38.82, delta 1\n",
      "the parameters based on moment inference is: [ 1.32252165  3.92679382 32.98381655]\n",
      "the parameters based on ML:                  [ 1.41970685  4.80156657 36.44412767]\n",
      "The average of gene-products 8.31,\n",
      "And theoretically we expect: 8.851465798045602\n"
     ]
    },
    {
     "data": {
      "image/png": "[encoded data removed]",
      "text/plain": [
       "<Figure size 432x288 with 2 Axes>"
      ]
     },
     "metadata": {
      "needs_background": "light"
     },
     "output_type": "display_data"
    }
   ],
   "source": [
    "import sys\n",
    "import os\n",
    "import numpy as np\n",
    "import matplotlib.pyplot as plt\n",
    "import multiprocessing as mp\n",
    "\n",
    "sys.path.append(os.path.abspath(f\"{os.getcwd()}/..\"))\n",
    "from tbk.run import get_products\n",
    "from tbk.inference import moment_based, maximum_likelihood\n",
    "from tbk.bp import beta_poisson4_log_likelihood, beta_poisson3, beta_poisson4\n",
    "\n",
    "lambd = 1.4  # rate from inactive -> active\n",
    "mu = 4.74    # rate from active -> inactive\n",
    "nu = 38.82   # rate from active -> product\n",
    "delta = 1    # rate from product -> degraded\n",
    "\n",
    "# # generate products through a markovian model (slow)\n",
    "# with mp.Pool(processes=2) as pool:\n",
    "#     products = pool.starmap(get_products, [(lambd, mu, nu, delta) for _ in range(2000)])\n",
    "\n",
    "# generate products through the beta poisson model (fast)\n",
    "products = beta_poisson3(lambd, mu, nu, size=1000)\n",
    "\n",
    "# print statistics\n",
    "print(f'The parameters are: lambda {lambd}, mu {mu}, nu {nu}, delta {delta}')\n",
    "print(f'the parameters based on moment inference is: {moment_based(np.array(products))}')\n",
    "print(f'the parameters based on ML:                  '\n",
    "      f'{maximum_likelihood(np.array(products), model=\"BP3\")}')\n",
    "print(f\"The average of gene-products {np.mean(products)},\")\n",
    "print(f\"And theoretically we expect: {((lambd * nu) / ((lambd + mu) * delta))}\")\n",
    "\n",
    "# plot our data\n",
    "vals = np.array(range(max(products)))\n",
    "chances = beta_poisson4_log_likelihood(*np.array([*maximum_likelihood(np.array(products), model='BP3'), 1]), \n",
    "                                       np.unique(vals, return_counts=True),\n",
    "                                       return_sum=False)\n",
    "fig, ax1 = plt.subplots()\n",
    "\n",
    "ax1.hist(products[..., np.newaxis], bins=np.arange(max(products[..., np.newaxis])))\n",
    "ax2 = ax1.twinx()\n",
    "ax2.plot(chances, c='r')\n",
    "plt.show()\n"
   ]
  }
 ],
 "metadata": {
  "kernelspec": {
   "display_name": "Python 3",
   "language": "python",
   "name": "python3"
  },
  "language_info": {
   "codemirror_mode": {
    "name": "ipython",
    "version": 3
   },
   "file_extension": ".py",
   "mimetype": "text/x-python",
   "name": "python",
   "nbconvert_exporter": "python",
   "pygments_lexer": "ipython3",
   "version": "3.7.3"
  }
 },
 "nbformat": 4,
 "nbformat_minor": 2
}
