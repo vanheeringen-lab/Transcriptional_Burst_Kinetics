{
 "cells": [
  {
   "cell_type": "code",
   "execution_count": 1,
   "metadata": {},
   "outputs": [
    {
     "ename": "ModuleNotFoundError",
     "evalue": "No module named 'tbk'",
     "output_type": "error",
     "traceback": [
      "\u001b[0;31m---------------------------------------------------------------------------\u001b[0m",
      "\u001b[0;31mModuleNotFoundError\u001b[0m                       Traceback (most recent call last)",
      "\u001b[0;32m<ipython-input-1-18a56b50da20>\u001b[0m in \u001b[0;36m<module>\u001b[0;34m\u001b[0m\n\u001b[1;32m      5\u001b[0m \u001b[0;32mimport\u001b[0m \u001b[0mmultiprocessing\u001b[0m \u001b[0;32mas\u001b[0m \u001b[0mmp\u001b[0m\u001b[0;34m\u001b[0m\u001b[0;34m\u001b[0m\u001b[0m\n\u001b[1;32m      6\u001b[0m \u001b[0;34m\u001b[0m\u001b[0m\n\u001b[0;32m----> 7\u001b[0;31m \u001b[0;32mfrom\u001b[0m \u001b[0mtbk\u001b[0m\u001b[0;34m.\u001b[0m\u001b[0mrun\u001b[0m \u001b[0;32mimport\u001b[0m \u001b[0mget_products\u001b[0m\u001b[0;34m\u001b[0m\u001b[0;34m\u001b[0m\u001b[0m\n\u001b[0m\u001b[1;32m      8\u001b[0m \u001b[0;32mfrom\u001b[0m \u001b[0mtbk\u001b[0m\u001b[0;34m.\u001b[0m\u001b[0minference\u001b[0m \u001b[0;32mimport\u001b[0m \u001b[0mmoment_based\u001b[0m\u001b[0;34m,\u001b[0m \u001b[0mmaximum_likelihood\u001b[0m\u001b[0;34m\u001b[0m\u001b[0;34m\u001b[0m\u001b[0m\n\u001b[1;32m      9\u001b[0m \u001b[0;32mfrom\u001b[0m \u001b[0mtbk\u001b[0m\u001b[0;34m.\u001b[0m\u001b[0mbp\u001b[0m \u001b[0;32mimport\u001b[0m \u001b[0mbeta_poisson4_log_likelihood\u001b[0m\u001b[0;34m,\u001b[0m \u001b[0mbeta_poisson3\u001b[0m\u001b[0;34m,\u001b[0m \u001b[0mbeta_poisson4\u001b[0m\u001b[0;34m\u001b[0m\u001b[0;34m\u001b[0m\u001b[0m\n",
      "\u001b[0;31mModuleNotFoundError\u001b[0m: No module named 'tbk'"
     ]
    }
   ],
   "source": [
    "import sys\n",
    "import os\n",
    "import numpy as np\n",
    "import matplotlib.pyplot as plt\n",
    "import multiprocessing as mp\n",
    "\n",
    "sys.path.append(os.path.abspath(f\"{os.getcwd()}/.\"))\n",
    "from tbk.run import get_products\n",
    "from tbk.inference import moment_based, maximum_likelihood\n",
    "from tbk.bp import beta_poisson4_log_likelihood, beta_poisson3, beta_poisson4\n",
    "\n",
    "lambd = 1.4  # rate from inactive -> active\n",
    "mu = 4.74    # rate from active -> inactive\n",
    "nu = 38.82   # rate from active -> product\n",
    "delta = 1    # rate from product -> degraded\n",
    "\n",
    "# # generate products through a markovian model (slow)\n",
    "# with mp.Pool(processes=2) as pool:\n",
    "#     products = pool.starmap(get_products, [(lambd, mu, nu, delta) for _ in range(2000)])\n",
    "\n",
    "# generate products through the beta poisson model (fast)\n",
    "products = beta_poisson3(lambd, mu, nu, size=1000)\n",
    "\n",
    "# print statistics\n",
    "print(f'The parameters are: lambda {lambd}, mu {mu}, nu {nu}, delta {delta}')\n",
    "print(f'the parameters based on moment inference is: {moment_based(np.array(products))}')\n",
    "print(f'the parameters based on ML:                  '\n",
    "      f'{maximum_likelihood(np.array(products), model=\"BP3\")}')\n",
    "print(f\"The average of gene-products {np.mean(products)},\")\n",
    "print(f\"And theoretically we expect: {((lambd * nu) / ((lambd + mu) * delta))}\")\n",
    "\n",
    "# plot our data\n",
    "vals = np.array(range(max(products)))\n",
    "chances = beta_poisson4_log_likelihood(*np.array([*maximum_likelihood(np.array(products), model='BP3'), 1]), \n",
    "                                       np.unique(vals, return_counts=True),\n",
    "                                       return_sum=False)\n",
    "fig, ax1 = plt.subplots()\n",
    "\n",
    "ax1.hist(products[..., np.newaxis], bins=np.arange(max(products[..., np.newaxis])))\n",
    "ax2 = ax1.twinx()\n",
    "ax2.plot(chances, c='r')\n",
    "plt.show()\n"
   ]
  },
  {
   "cell_type": "code",
   "execution_count": null,
   "metadata": {},
   "outputs": [],
   "source": []
  }
 ],
 "metadata": {
  "kernelspec": {
   "display_name": "Python 3",
   "language": "python",
   "name": "python3"
  },
  "language_info": {
   "codemirror_mode": {
    "name": "ipython",
    "version": 3
   },
   "file_extension": ".py",
   "mimetype": "text/x-python",
   "name": "python",
   "nbconvert_exporter": "python",
   "pygments_lexer": "ipython3",
   "version": "3.7.3"
  }
 },
 "nbformat": 4,
 "nbformat_minor": 2
}
